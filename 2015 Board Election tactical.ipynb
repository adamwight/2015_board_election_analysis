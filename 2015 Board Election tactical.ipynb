{
 "cells": [
  {
   "cell_type": "code",
   "execution_count": null,
   "metadata": {
    "collapsed": true
   },
   "outputs": [],
   "source": [
    "% matplotlib inline\n",
    "import matplotlib.pyplot as plt\n",
    "import pandas"
   ]
  },
  {
   "cell_type": "code",
   "execution_count": 1,
   "metadata": {
    "collapsed": true
   },
   "outputs": [],
   "source": [
    "order = [\n",
    "    \"Houcemeddine Turki - User:Csisc\",\n",
    "    \"Sailesh Patnaik - User:Saileshpat\",\n",
    "    \"Dariusz Jemielniak - User:pundit\",\n",
    "    \"Mohamed Ouda - User:Mohamed Ouda\",\n",
    "    \"Josh Lim - User:Sky Harbor\",\n",
    "    \"David Conway - User:Smerus\",\n",
    "    \"Francis Kaswahili Kaguna - User:Francis Kaswahili\",\n",
    "    \"Cristian Consonni - User:CristianCantoro\",\n",
    "    \"Peter Gallert - User:Pgallert\",\n",
    "    \"María Sefidari - User:Raystorm\",\n",
    "    \"Phoebe Ayers - User:phoebe\",\n",
    "    \"Denny Vrandečić - User:Denny\",\n",
    "    \"Ali Haidar Khan (Tonmoy) - User:Ali Haidar Khan\",\n",
    "    \"Nisar Ahmed Syed - User:అహ్మద్ నిసార్\",\n",
    "    \"James Heilman - User:Doc James\",\n",
    "    \"Tim Davenport - User:Carrite\",\n",
    "    \"Samuel Klein - User:Sj\",\n",
    "    \"Syed Muzammiluddin - User:Hindustanilanguage\",\n",
    "    \"Edward Saperia - User:EdSaperia\",\n",
    "    \"Mike Nicolaije - User:Taketa\",\n",
    "    \"Pete Forsyth - User:PeteForsyth\",\n",
    "]"
   ]
  },
  {
   "cell_type": "code",
   "execution_count": 29,
   "metadata": {
    "collapsed": false
   },
   "outputs": [],
   "source": [
    "#TODO names=order\n",
    "\n",
    "ballots = pandas.read_csv(\"2015 ballots.txt\", header=None)\n",
    "\n",
    "# Count number of each vote, for each ballot.\n",
    "voter_tactics = pandas.DataFrame(columns=[1,0,-1])\n",
    "for rownum, ballot in ballots.iterrows():\n",
    "    counts = ballot.value_counts()\n",
    "    voter_tactics = voter_tactics.append(counts)\n",
    "\n",
    "# Zero out NaNs\n",
    "voter_tactics = voter_tactics.fillna(value=0)"
   ]
  },
  {
   "cell_type": "code",
   "execution_count": 41,
   "metadata": {
    "collapsed": false
   },
   "outputs": [
    {
     "data": {
      "image/png": "[encoded data removed]",
      "text/plain": [
       "<matplotlib.figure.Figure at 0x7f318015c940>"
      ]
     },
     "metadata": {},
     "output_type": "display_data"
    }
   ],
   "source": [
    "voter_tactics.plot(kind='hist', stacked=True);"
   ]
  },
  {
   "cell_type": "code",
   "execution_count": null,
   "metadata": {
    "collapsed": true
   },
   "outputs": [],
   "source": [
    "# TODO:\n",
    "# - Heuristic for determining likelihood of tactical voting.\n",
    "# - Which candidates got tactical and non-tactical votes?"
   ]
  }
 ],
 "metadata": {
  "kernelspec": {
   "display_name": "Python 3",
   "language": "python",
   "name": "python3"
  },
  "language_info": {
   "codemirror_mode": {
    "name": "ipython",
    "version": 3
   },
   "file_extension": ".py",
   "mimetype": "text/x-python",
   "name": "python",
   "nbconvert_exporter": "python",
   "pygments_lexer": "ipython3",
   "version": "3.4.2"
  }
 },
 "nbformat": 4,
 "nbformat_minor": 0
}
