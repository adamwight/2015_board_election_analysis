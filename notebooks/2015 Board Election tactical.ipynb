{
 "cells": [
  {
   "cell_type": "markdown",
   "metadata": {},
   "source": [
    "This notebook looks for signs of tactical voting during the 2015 Wikimedia Foundation Board election."
   ]
  },
  {
   "cell_type": "code",
   "execution_count": 1,
   "metadata": {},
   "outputs": [],
   "source": [
    "%matplotlib inline\n",
    "import matplotlib.pyplot as plt\n",
    "import pandas\n",
    "import numpy as np"
   ]
  },
  {
   "cell_type": "code",
   "execution_count": 18,
   "metadata": {},
   "outputs": [],
   "source": [
    "# Each line of the raw ballot file looks like,\n",
    "#     -1, 0, 1, 1, 1, 1, -1, 0, 0, 1, 1, 1, 0, 0, 0, 0, 0, 0, 1, 1, 0\n",
    "# A line corresponds to a user's ballot, and each column is a vote for candidates in the order below:\n",
    "\n",
    "order = [\n",
    "    \"Houcemeddine Turki – User:Csisc\",\n",
    "    \"Sailesh Patnaik – User:Saileshpat\",\n",
    "    \"Dariusz Jemielniak – User:Pundit\",\n",
    "    \"Mohamed Ouda – User:Mohamed Ouda\",\n",
    "    \"Josh Lim – User:Sky Harbor\",\n",
    "    \"David Conway – User:Smerus\",\n",
    "    \"Francis Kaswahili Kaguna – User:Francis Kaswahili\",\n",
    "    \"Cristian Consonni – User:CristianCantoro\",\n",
    "    \"Peter Gallert – User:Pgallert\",\n",
    "    \"María Sefidari – User:Raystorm\",\n",
    "    \"Phoebe Ayers – User:Phoebe\",\n",
    "    \"Denny Vrandečić – User:Denny\",\n",
    "    \"Ali Haidar Khan (Tonmoy) – User:Ali Haidar Khan\",\n",
    "    \"Nisar Ahmed Syed – User:అహ్మద్ నిసార్\",\n",
    "    \"James Heilman – User:Doc James\",\n",
    "    \"Tim Davenport – User:Carrite\",\n",
    "    \"Samuel Klein – User:Sj\",\n",
    "    \"Syed Muzammiluddin – User:Hindustanilanguage\",\n",
    "    \"Edward Saperia – User:EdSaperia\",\n",
    "    \"Mike Nicolaije – User:Taketa\",\n",
    "    \"Pete Forsyth - User:Peteforsyth (candidate has withdrawn)\",\n",
    "]\n",
    "\n",
    "ballots = pandas.read_csv(\"../data/2015 ballots.txt\", header=None, names=order)"
   ]
  },
  {
   "cell_type": "markdown",
   "metadata": {},
   "source": [
    "## Distribution of tactics per ballot"
   ]
  },
  {
   "cell_type": "code",
   "execution_count": 3,
   "metadata": {},
   "outputs": [],
   "source": [
    "# Count occurences of each vote direction, for each ballot.\n",
    "voter_tactics = pandas.DataFrame(columns=[1,0,-1], dtype=np.int8)\n",
    "# Count occurences of each type of vote, for each candidate.\n",
    "for rownum, ballot in ballots.iterrows():\n",
    "    counts = ballot.value_counts()\n",
    "    voter_tactics = voter_tactics.append(counts)\n",
    "\n",
    "# Zero out NaNs\n",
    "voter_tactics = voter_tactics.fillna(value=0)"
   ]
  },
  {
   "cell_type": "code",
   "execution_count": 4,
   "metadata": {},
   "outputs": [
    {
     "data": {
      "image/png": "[encoded data removed]",
      "text/plain": [
       "<Figure size 432x288 with 1 Axes>"
      ]
     },
     "metadata": {
      "needs_background": "light"
     },
     "output_type": "display_data"
    }
   ],
   "source": [
    "# Distribution of support votes per ballot.\n",
    "voter_tactics[1].plot(kind='hist', bins=21);"
   ]
  },
  {
   "cell_type": "code",
   "execution_count": 5,
   "metadata": {},
   "outputs": [
    {
     "data": {
      "image/png": "[encoded data removed]",
      "text/plain": [
       "<Figure size 432x288 with 1 Axes>"
      ]
     },
     "metadata": {
      "needs_background": "light"
     },
     "output_type": "display_data"
    }
   ],
   "source": [
    "# Distribution of neutral votes per ballot.\n",
    "voter_tactics[0].plot(kind='hist', bins=21);"
   ]
  },
  {
   "cell_type": "code",
   "execution_count": 6,
   "metadata": {},
   "outputs": [
    {
     "data": {
      "image/png": "[encoded data removed]",
      "text/plain": [
       "<Figure size 432x288 with 1 Axes>"
      ]
     },
     "metadata": {
      "needs_background": "light"
     },
     "output_type": "display_data"
    }
   ],
   "source": [
    "# Distribution of oppose votes per ballot.\n",
    "voter_tactics[-1].plot(kind='hist', bins=21);"
   ]
  },
  {
   "cell_type": "markdown",
   "metadata": {},
   "source": [
    "## Impact on each candidate\n",
    "\n",
    "We can find each voter's relative contribution to the election outcome,\n",
    "\n",
    "\"Support percentage\" totals before and after a single vote.\n",
    "\\begin{align}\n",
    "T_{n - 1} & = \\frac{S}{S + O} \\\\\n",
    "T_n & = \\frac{S + s_n}{(S + s_n) + (O + o_n)} \\\\\n",
    "\\end{align}\n",
    "\n",
    "Solving for the vote's impact $I$,\n",
    "\n",
    "\\begin{align}\n",
    "I & = T_n - T_{n-1} \\\\\n",
    "  & = \\frac{S + s_n}{(S + s_n) + (O + o_n)} - \\frac{S}{S + O} \\\\\n",
    "  & = \\frac{S^2 + Ss_n + S{O} + {s_n}O - S^2 - S{s_n} - S{O} - S{o_n}}{S^2 + S{s_n} + S{O} + S{o_n} + S{O} + s_n{O} + O^2 + O{o_n}} \\\\\n",
    "  & = \\frac{{s_n}O - S{o_n}}{S^2 + S{s_n} + 2S{O} + S{o_n} + s_n{O} + O^2 + O{o_n}} \\\\\n",
    "\\end{align}"
   ]
  },
  {
   "cell_type": "code",
   "execution_count": 19,
   "metadata": {},
   "outputs": [
    {
     "data": {
      "text/html": [
       "<div>\n",
       "<style scoped>\n",
       "    .dataframe tbody tr th:only-of-type {\n",
       "        vertical-align: middle;\n",
       "    }\n",
       "\n",
       "    .dataframe tbody tr th {\n",
       "        vertical-align: top;\n",
       "    }\n",
       "\n",
       "    .dataframe thead th {\n",
       "        text-align: right;\n",
       "    }\n",
       "</style>\n",
       "<table border=\"1\" class=\"dataframe\">\n",
       "  <thead>\n",
       "    <tr style=\"text-align: right;\">\n",
       "      <th></th>\n",
       "      <th>Support</th>\n",
       "      <th>Neutral</th>\n",
       "      <th>Oppose</th>\n",
       "      <th>support_impact</th>\n",
       "      <th>oppose_impact</th>\n",
       "    </tr>\n",
       "    <tr>\n",
       "      <th>Candidate</th>\n",
       "      <th></th>\n",
       "      <th></th>\n",
       "      <th></th>\n",
       "      <th></th>\n",
       "      <th></th>\n",
       "    </tr>\n",
       "  </thead>\n",
       "  <tbody>\n",
       "    <tr>\n",
       "      <th>Dariusz Jemielniak – User:Pundit</th>\n",
       "      <td>2028</td>\n",
       "      <td>2583</td>\n",
       "      <td>556</td>\n",
       "      <td>0.000083</td>\n",
       "      <td>-0.000304</td>\n",
       "    </tr>\n",
       "    <tr>\n",
       "      <th>James Heilman – User:Doc James</th>\n",
       "      <td>1857</td>\n",
       "      <td>2732</td>\n",
       "      <td>578</td>\n",
       "      <td>0.000098</td>\n",
       "      <td>-0.000313</td>\n",
       "    </tr>\n",
       "    <tr>\n",
       "      <th>Denny Vrandečić – User:Denny</th>\n",
       "      <td>1628</td>\n",
       "      <td>2995</td>\n",
       "      <td>544</td>\n",
       "      <td>0.000115</td>\n",
       "      <td>-0.000345</td>\n",
       "    </tr>\n",
       "    <tr>\n",
       "      <th>María Sefidari – User:Raystorm</th>\n",
       "      <td>2184</td>\n",
       "      <td>2208</td>\n",
       "      <td>775</td>\n",
       "      <td>0.000089</td>\n",
       "      <td>-0.000250</td>\n",
       "    </tr>\n",
       "    <tr>\n",
       "      <th>Phoebe Ayers – User:Phoebe</th>\n",
       "      <td>1955</td>\n",
       "      <td>2498</td>\n",
       "      <td>714</td>\n",
       "      <td>0.000100</td>\n",
       "      <td>-0.000275</td>\n",
       "    </tr>\n",
       "    <tr>\n",
       "      <th>Mike Nicolaije – User:Taketa</th>\n",
       "      <td>1524</td>\n",
       "      <td>3076</td>\n",
       "      <td>567</td>\n",
       "      <td>0.000130</td>\n",
       "      <td>-0.000349</td>\n",
       "    </tr>\n",
       "    <tr>\n",
       "      <th>Peter Gallert – User:Pgallert</th>\n",
       "      <td>1467</td>\n",
       "      <td>3046</td>\n",
       "      <td>654</td>\n",
       "      <td>0.000145</td>\n",
       "      <td>-0.000326</td>\n",
       "    </tr>\n",
       "    <tr>\n",
       "      <th>Cristian Consonni – User:CristianCantoro</th>\n",
       "      <td>1381</td>\n",
       "      <td>3150</td>\n",
       "      <td>636</td>\n",
       "      <td>0.000156</td>\n",
       "      <td>-0.000340</td>\n",
       "    </tr>\n",
       "    <tr>\n",
       "      <th>Tim Davenport – User:Carrite</th>\n",
       "      <td>1571</td>\n",
       "      <td>2871</td>\n",
       "      <td>725</td>\n",
       "      <td>0.000138</td>\n",
       "      <td>-0.000298</td>\n",
       "    </tr>\n",
       "    <tr>\n",
       "      <th>Samuel Klein – User:Sj</th>\n",
       "      <td>1330</td>\n",
       "      <td>3111</td>\n",
       "      <td>726</td>\n",
       "      <td>0.000172</td>\n",
       "      <td>-0.000315</td>\n",
       "    </tr>\n",
       "    <tr>\n",
       "      <th>David Conway – User:Smerus</th>\n",
       "      <td>1192</td>\n",
       "      <td>3232</td>\n",
       "      <td>743</td>\n",
       "      <td>0.000199</td>\n",
       "      <td>-0.000319</td>\n",
       "    </tr>\n",
       "    <tr>\n",
       "      <th>Josh Lim – User:Sky Harbor</th>\n",
       "      <td>1069</td>\n",
       "      <td>3386</td>\n",
       "      <td>712</td>\n",
       "      <td>0.000225</td>\n",
       "      <td>-0.000337</td>\n",
       "    </tr>\n",
       "    <tr>\n",
       "      <th>Ali Haidar Khan (Tonmoy) – User:Ali Haidar Khan</th>\n",
       "      <td>1134</td>\n",
       "      <td>3231</td>\n",
       "      <td>802</td>\n",
       "      <td>0.000214</td>\n",
       "      <td>-0.000303</td>\n",
       "    </tr>\n",
       "    <tr>\n",
       "      <th>Edward Saperia – User:EdSaperia</th>\n",
       "      <td>1109</td>\n",
       "      <td>3205</td>\n",
       "      <td>853</td>\n",
       "      <td>0.000222</td>\n",
       "      <td>-0.000288</td>\n",
       "    </tr>\n",
       "    <tr>\n",
       "      <th>Mohamed Ouda – User:Mohamed Ouda</th>\n",
       "      <td>1112</td>\n",
       "      <td>3198</td>\n",
       "      <td>857</td>\n",
       "      <td>0.000221</td>\n",
       "      <td>-0.000287</td>\n",
       "    </tr>\n",
       "    <tr>\n",
       "      <th>Sailesh Patnaik – User:Saileshpat</th>\n",
       "      <td>1010</td>\n",
       "      <td>3150</td>\n",
       "      <td>1007</td>\n",
       "      <td>0.000248</td>\n",
       "      <td>-0.000248</td>\n",
       "    </tr>\n",
       "    <tr>\n",
       "      <th>Syed Muzammiluddin – User:Hindustanilanguage</th>\n",
       "      <td>816</td>\n",
       "      <td>3491</td>\n",
       "      <td>860</td>\n",
       "      <td>0.000306</td>\n",
       "      <td>-0.000291</td>\n",
       "    </tr>\n",
       "    <tr>\n",
       "      <th>Nisar Ahmed Syed – User:అహ్మద్ నిసార్</th>\n",
       "      <td>735</td>\n",
       "      <td>3481</td>\n",
       "      <td>951</td>\n",
       "      <td>0.000335</td>\n",
       "      <td>-0.000259</td>\n",
       "    </tr>\n",
       "    <tr>\n",
       "      <th>Houcemeddine Turki – User:Csisc</th>\n",
       "      <td>590</td>\n",
       "      <td>3449</td>\n",
       "      <td>1128</td>\n",
       "      <td>0.000382</td>\n",
       "      <td>-0.000200</td>\n",
       "    </tr>\n",
       "    <tr>\n",
       "      <th>Pete Forsyth - User:Peteforsyth (candidate has withdrawn)</th>\n",
       "      <td>108</td>\n",
       "      <td>4620</td>\n",
       "      <td>439</td>\n",
       "      <td>0.001470</td>\n",
       "      <td>-0.000362</td>\n",
       "    </tr>\n",
       "    <tr>\n",
       "      <th>Francis Kaswahili Kaguna – User:Francis Kaswahili</th>\n",
       "      <td>386</td>\n",
       "      <td>3206</td>\n",
       "      <td>1575</td>\n",
       "      <td>0.000410</td>\n",
       "      <td>-0.000100</td>\n",
       "    </tr>\n",
       "  </tbody>\n",
       "</table>\n",
       "</div>"
      ],
      "text/plain": [
       "                                                    Support  Neutral  Oppose  \\\n",
       "Candidate                                                                      \n",
       "Dariusz Jemielniak – User:Pundit                       2028     2583     556   \n",
       "James Heilman – User:Doc James                         1857     2732     578   \n",
       "Denny Vrandečić – User:Denny                           1628     2995     544   \n",
       "María Sefidari – User:Raystorm                         2184     2208     775   \n",
       "Phoebe Ayers – User:Phoebe                             1955     2498     714   \n",
       "Mike Nicolaije – User:Taketa                           1524     3076     567   \n",
       "Peter Gallert – User:Pgallert                          1467     3046     654   \n",
       "Cristian Consonni – User:CristianCantoro               1381     3150     636   \n",
       "Tim Davenport – User:Carrite                           1571     2871     725   \n",
       "Samuel Klein – User:Sj                                 1330     3111     726   \n",
       "David Conway – User:Smerus                             1192     3232     743   \n",
       "Josh Lim – User:Sky Harbor                             1069     3386     712   \n",
       "Ali Haidar Khan (Tonmoy) – User:Ali Haidar Khan        1134     3231     802   \n",
       "Edward Saperia – User:EdSaperia                        1109     3205     853   \n",
       "Mohamed Ouda – User:Mohamed Ouda                       1112     3198     857   \n",
       "Sailesh Patnaik – User:Saileshpat                      1010     3150    1007   \n",
       "Syed Muzammiluddin – User:Hindustanilanguage            816     3491     860   \n",
       "Nisar Ahmed Syed – User:అహ్మద్ నిసార్                   735     3481     951   \n",
       "Houcemeddine Turki – User:Csisc                         590     3449    1128   \n",
       "Pete Forsyth - User:Peteforsyth (candidate has ...      108     4620     439   \n",
       "Francis Kaswahili Kaguna – User:Francis Kaswahili       386     3206    1575   \n",
       "\n",
       "                                                    support_impact  \\\n",
       "Candidate                                                            \n",
       "Dariusz Jemielniak – User:Pundit                          0.000083   \n",
       "James Heilman – User:Doc James                            0.000098   \n",
       "Denny Vrandečić – User:Denny                              0.000115   \n",
       "María Sefidari – User:Raystorm                            0.000089   \n",
       "Phoebe Ayers – User:Phoebe                                0.000100   \n",
       "Mike Nicolaije – User:Taketa                              0.000130   \n",
       "Peter Gallert – User:Pgallert                             0.000145   \n",
       "Cristian Consonni – User:CristianCantoro                  0.000156   \n",
       "Tim Davenport – User:Carrite                              0.000138   \n",
       "Samuel Klein – User:Sj                                    0.000172   \n",
       "David Conway – User:Smerus                                0.000199   \n",
       "Josh Lim – User:Sky Harbor                                0.000225   \n",
       "Ali Haidar Khan (Tonmoy) – User:Ali Haidar Khan           0.000214   \n",
       "Edward Saperia – User:EdSaperia                           0.000222   \n",
       "Mohamed Ouda – User:Mohamed Ouda                          0.000221   \n",
       "Sailesh Patnaik – User:Saileshpat                         0.000248   \n",
       "Syed Muzammiluddin – User:Hindustanilanguage              0.000306   \n",
       "Nisar Ahmed Syed – User:అహ్మద్ నిసార్                     0.000335   \n",
       "Houcemeddine Turki – User:Csisc                           0.000382   \n",
       "Pete Forsyth - User:Peteforsyth (candidate has ...        0.001470   \n",
       "Francis Kaswahili Kaguna – User:Francis Kaswahili         0.000410   \n",
       "\n",
       "                                                    oppose_impact  \n",
       "Candidate                                                          \n",
       "Dariusz Jemielniak – User:Pundit                        -0.000304  \n",
       "James Heilman – User:Doc James                          -0.000313  \n",
       "Denny Vrandečić – User:Denny                            -0.000345  \n",
       "María Sefidari – User:Raystorm                          -0.000250  \n",
       "Phoebe Ayers – User:Phoebe                              -0.000275  \n",
       "Mike Nicolaije – User:Taketa                            -0.000349  \n",
       "Peter Gallert – User:Pgallert                           -0.000326  \n",
       "Cristian Consonni – User:CristianCantoro                -0.000340  \n",
       "Tim Davenport – User:Carrite                            -0.000298  \n",
       "Samuel Klein – User:Sj                                  -0.000315  \n",
       "David Conway – User:Smerus                              -0.000319  \n",
       "Josh Lim – User:Sky Harbor                              -0.000337  \n",
       "Ali Haidar Khan (Tonmoy) – User:Ali Haidar Khan         -0.000303  \n",
       "Edward Saperia – User:EdSaperia                         -0.000288  \n",
       "Mohamed Ouda – User:Mohamed Ouda                        -0.000287  \n",
       "Sailesh Patnaik – User:Saileshpat                       -0.000248  \n",
       "Syed Muzammiluddin – User:Hindustanilanguage            -0.000291  \n",
       "Nisar Ahmed Syed – User:అహ్మద్ నిసార్                   -0.000259  \n",
       "Houcemeddine Turki – User:Csisc                         -0.000200  \n",
       "Pete Forsyth - User:Peteforsyth (candidate has ...      -0.000362  \n",
       "Francis Kaswahili Kaguna – User:Francis Kaswahili       -0.000100  "
      ]
     },
     "execution_count": 19,
     "metadata": {},
     "output_type": "execute_result"
    }
   ],
   "source": [
    "final_tallies = pandas.read_csv(\"../data/2015 board election.csv\", index_col=0)\n",
    "\n",
    "vote_impacts_per_candidate_map = final_tallies\n",
    "vote_impacts_per_candidate_map = vote_impacts_per_candidate_map.assign(\n",
    "    support_impact = lambda x: x.Oppose / ((x.Support - 1) * x.Support + x.Oppose * (x.Oppose + 1) + 2 * (x.Support - 1) * x.Oppose))\n",
    "vote_impacts_per_candidate_map = vote_impacts_per_candidate_map.assign(\n",
    "    oppose_impact = lambda x: -x.Support / (x.Support * (x.Support + 1) + (x.Oppose - 1) * x.Oppose + 2 * x.Support * (x.Oppose - 1)))\n",
    "\n",
    "vote_impacts_per_candidate_map"
   ]
  },
  {
   "cell_type": "markdown",
   "metadata": {},
   "source": [
    "This graph shows the relative weight of a support or oppose vote for each candidate."
   ]
  },
  {
   "cell_type": "code",
   "execution_count": 20,
   "metadata": {},
   "outputs": [
    {
     "data": {
      "text/plain": [
       "<matplotlib.axes._subplots.AxesSubplot at 0x11abd73c8>"
      ]
     },
     "execution_count": 20,
     "metadata": {},
     "output_type": "execute_result"
    },
    {
     "data": {
      "image/png": "[encoded data removed]",
      "text/plain": [
       "<Figure size 432x288 with 1 Axes>"
      ]
     },
     "metadata": {
      "needs_background": "light"
     },
     "output_type": "display_data"
    }
   ],
   "source": [
    "vote_impacts_per_candidate_map.filter(items=['support_impact', 'oppose_impact']).sort_values(by='support_impact').plot(kind='barh')"
   ]
  },
  {
   "cell_type": "code",
   "execution_count": 39,
   "metadata": {},
   "outputs": [],
   "source": [
    "# Make the map more convenient to use.\n",
    "\n",
    "vote_impacts_per_candidate_map[-1] = vote_impacts_per_candidate_map['oppose_impact']\n",
    "vote_impacts_per_candidate_map[1] = vote_impacts_per_candidate_map['support_impact']\n",
    "vote_impacts_per_candidate_map[0] = 0"
   ]
  },
  {
   "cell_type": "code",
   "execution_count": 68,
   "metadata": {},
   "outputs": [
    {
     "data": {
      "text/plain": [
       "<matplotlib.axes._subplots.AxesSubplot at 0x11dd8a160>"
      ]
     },
     "execution_count": 68,
     "metadata": {},
     "output_type": "execute_result"
    },
    {
     "data": {
      "image/png": "[encoded data removed]",
      "text/plain": [
       "<Figure size 720x432 with 1 Axes>"
      ]
     },
     "metadata": {
      "needs_background": "light"
     },
     "output_type": "display_data"
    }
   ],
   "source": [
    "# Map the ballots to impact per candidate.\n",
    "impact_ballots = ballots.copy()\n",
    "\n",
    "for candidate in vote_impacts_per_candidate_map.index:\n",
    "    impact_ballots[candidate] \\\n",
    "        = impact_ballots[candidate].map(\n",
    "            vote_impacts_per_candidate_map.loc[candidate, :]\n",
    "    )\n",
    "\n",
    "impact_ballots = impact_ballots.assign(total_impact = lambda x: x[order].abs().sum(axis=1))\n",
    "impact_ballots = impact_ballots.sort_values(by='total_impact')\n",
    "impact_ballots['rank_by_impact'] = range(len(impact_ballots))\n",
    "impact_ballots.plot.line(x='rank_by_impact', y='total_impact', figsize=(10,6))"
   ]
  },
  {
   "cell_type": "code",
   "execution_count": 11,
   "metadata": {},
   "outputs": [],
   "source": [
    "# TODO:\n",
    "# - Heuristic for determining likelihood of tactical voting.\n",
    "# - Which candidates got tactical and non-tactical votes?\n",
    "# - Outcome if everyone had voted tactically"
   ]
  }
 ],
 "metadata": {
  "kernelspec": {
   "display_name": "Python 3",
   "language": "python",
   "name": "python3"
  },
  "language_info": {
   "codemirror_mode": {
    "name": "ipython",
    "version": 3
   },
   "file_extension": ".py",
   "mimetype": "text/x-python",
   "name": "python",
   "nbconvert_exporter": "python",
   "pygments_lexer": "ipython3",
   "version": "3.6.2"
  }
 },
 "nbformat": 4,
 "nbformat_minor": 1
}
