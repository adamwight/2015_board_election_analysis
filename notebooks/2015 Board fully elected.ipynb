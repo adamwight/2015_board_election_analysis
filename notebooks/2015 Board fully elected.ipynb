{
 "cells": [
  {
   "cell_type": "code",
   "execution_count": 1,
   "metadata": {},
   "outputs": [],
   "source": [
    "%matplotlib inline\n",
    "import pandas"
   ]
  },
  {
   "cell_type": "code",
   "execution_count": 2,
   "metadata": {},
   "outputs": [],
   "source": [
    "# Each line of the raw ballot file looks like,\n",
    "#     -1, 0, 1, 1, 1, 1, -1, 0, 0, 1, 1, 1, 0, 0, 0, 0, 0, 0, 1, 1, 0\n",
    "# A line corresponds to a user's ballot, and each column is a vote for candidates in the order below:\n",
    "\n",
    "order = [\n",
    "    \"Houcemeddine Turki – User:Csisc\",\n",
    "    \"Sailesh Patnaik – User:Saileshpat\",\n",
    "    \"Dariusz Jemielniak – User:Pundit\",\n",
    "    \"Mohamed Ouda – User:Mohamed Ouda\",\n",
    "    \"Josh Lim – User:Sky Harbor\",\n",
    "    \"David Conway – User:Smerus\",\n",
    "    \"Francis Kaswahili Kaguna – User:Francis Kaswahili\",\n",
    "    \"Cristian Consonni – User:CristianCantoro\",\n",
    "    \"Peter Gallert – User:Pgallert\",\n",
    "    \"María Sefidari – User:Raystorm\",\n",
    "    \"Phoebe Ayers – User:Phoebe\",\n",
    "    \"Denny Vrandečić – User:Denny\",\n",
    "    \"Ali Haidar Khan (Tonmoy) – User:Ali Haidar Khan\",\n",
    "    \"Nisar Ahmed Syed – User:అహ్మద్ నిసార్\",\n",
    "    \"James Heilman – User:Doc James\",\n",
    "    \"Tim Davenport – User:Carrite\",\n",
    "    \"Samuel Klein – User:Sj\",\n",
    "    \"Syed Muzammiluddin – User:Hindustanilanguage\",\n",
    "    \"Edward Saperia – User:EdSaperia\",\n",
    "    \"Mike Nicolaije – User:Taketa\",\n",
    "    \"Pete Forsyth - User:Peteforsyth (candidate has withdrawn)\",\n",
    "]\n",
    "\n",
    "ballots = pandas.read_csv(\"../data/2015 ballots.txt\", header=None, names=order)"
   ]
  },
  {
   "cell_type": "code",
   "execution_count": 3,
   "metadata": {},
   "outputs": [],
   "source": [
    "# Winners by support\n",
    "top_ten = [\n",
    "    \"Dariusz Jemielniak – User:Pundit\",\n",
    "    \"Cristian Consonni – User:CristianCantoro\",\n",
    "    \"Peter Gallert – User:Pgallert\",\n",
    "    \"María Sefidari – User:Raystorm\",\n",
    "    \"Phoebe Ayers – User:Phoebe\",\n",
    "    \"Denny Vrandečić – User:Denny\",\n",
    "    \"James Heilman – User:Doc James\",\n",
    "    \"Tim Davenport – User:Carrite\",\n",
    "    \"Samuel Klein – User:Sj\",\n",
    "    \"Mike Nicolaije – User:Taketa\",\n",
    "]\n",
    "\n",
    "# filter ballots to votes for these candidates\n",
    "top_ten_votes = ballots.filter(items=top_ten)"
   ]
  },
  {
   "cell_type": "code",
   "execution_count": 4,
   "metadata": {},
   "outputs": [
    {
     "data": {
      "text/plain": [
       "0.0     605\n",
       "1.0     813\n",
       "2.0     871\n",
       "3.0     781\n",
       "4.0     669\n",
       "5.0     504\n",
       "6.0     344\n",
       "7.0     221\n",
       "8.0     140\n",
       "9.0      90\n",
       "10.0    129\n",
       "Name: 1, dtype: int64"
      ]
     },
     "execution_count": 4,
     "metadata": {},
     "output_type": "execute_result"
    }
   ],
   "source": [
    "vote_direction_totals = top_ten_votes.apply(lambda x: x.value_counts(), axis='columns')\n",
    "vote_direction_totals = vote_direction_totals.fillna(0)\n",
    "vote_direction_totals[1].value_counts().sort_index()"
   ]
  },
  {
   "cell_type": "code",
   "execution_count": 5,
   "metadata": {},
   "outputs": [
    {
     "data": {
      "text/plain": [
       "<matplotlib.axes._subplots.AxesSubplot at 0x11935aeb8>"
      ]
     },
     "execution_count": 5,
     "metadata": {},
     "output_type": "execute_result"
    },
    {
     "data": {
      "image/png": "[encoded data removed]",
      "text/plain": [
       "<Figure size 432x288 with 1 Axes>"
      ]
     },
     "metadata": {
      "needs_background": "light"
     },
     "output_type": "display_data"
    }
   ],
   "source": [
    "vote_direction_totals[1].value_counts().sort_index().plot('bar')"
   ]
  },
  {
   "cell_type": "markdown",
   "metadata": {},
   "source": [
    "Observations:\n",
    "* 605 of 5,167 (11.6%) voters didn't vote for any of these top ten candidates.\n",
    "* 88.4% voted for at least one of the top ten candidates.\n",
    "* 72.6% voted for at least two of the top candidates."
   ]
  },
  {
   "cell_type": "code",
   "execution_count": 6,
   "metadata": {},
   "outputs": [
    {
     "data": {
      "text/plain": [
       "<matplotlib.axes._subplots.AxesSubplot at 0x1192412e8>"
      ]
     },
     "execution_count": 6,
     "metadata": {},
     "output_type": "execute_result"
    },
    {
     "data": {
      "image/png": "[encoded data removed]",
      "text/plain": [
       "<Figure size 432x288 with 1 Axes>"
      ]
     },
     "metadata": {
      "needs_background": "light"
     },
     "output_type": "display_data"
    }
   ],
   "source": [
    "vote_direction_totals[-1].value_counts().sort_index().plot(kind='bar')"
   ]
  },
  {
   "cell_type": "code",
   "execution_count": null,
   "metadata": {},
   "outputs": [],
   "source": [
    "actual_winners = [\n",
    "    \"Dariusz Jemielniak – User:Pundit\",\n",
    "    \"Denny Vrandečić – User:Denny\",\n",
    "    \"James Heilman – User:Doc James\",\n",
    "]\n",
    "\n",
    "# filter ballots to votes for these candidates\n",
    "actual_winner_votes = ballots.filter(items=actual_winners)\n",
    "\n",
    "vote_direction_totals = actual_winner_votes.apply(lambda x: x.value_counts(), axis='columns')\n",
    "vote_direction_totals = vote_direction_totals.fillna(0)"
   ]
  },
  {
   "cell_type": "code",
   "execution_count": 9,
   "metadata": {},
   "outputs": [
    {
     "data": {
      "text/plain": [
       "0.0    1883\n",
       "1.0    1637\n",
       "2.0    1065\n",
       "3.0     582\n",
       "Name: 1, dtype: int64"
      ]
     },
     "execution_count": 9,
     "metadata": {},
     "output_type": "execute_result"
    }
   ],
   "source": [
    "vote_direction_totals[1].value_counts().sort_index()"
   ]
  },
  {
   "cell_type": "code",
   "execution_count": null,
   "metadata": {},
   "outputs": [],
   "source": []
  }
 ],
 "metadata": {
  "kernelspec": {
   "display_name": "Python 3",
   "language": "python",
   "name": "python3"
  },
  "language_info": {
   "codemirror_mode": {
    "name": "ipython",
    "version": 3
   },
   "file_extension": ".py",
   "mimetype": "text/x-python",
   "name": "python",
   "nbconvert_exporter": "python",
   "pygments_lexer": "ipython3",
   "version": "3.6.2"
  }
 },
 "nbformat": 4,
 "nbformat_minor": 2
}
